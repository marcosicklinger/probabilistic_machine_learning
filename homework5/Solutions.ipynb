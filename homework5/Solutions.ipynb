{
 "cells": [
  {
   "cell_type": "code",
   "execution_count": 1,
   "metadata": {},
   "outputs": [],
   "source": [
    "import numpy as np\n",
    "\n",
    "from sklearn import datasets\n",
    "from sklearn.model_selection import train_test_split\n",
    "from sklearn.linear_model import LogisticRegression\n",
    "from sklearn.metrics import classification_report\n",
    "from sklearn.naive_bayes import GaussianNB\n",
    "\n"
   ]
  },
  {
   "cell_type": "code",
   "execution_count": 2,
   "metadata": {},
   "outputs": [
    {
     "name": "stdout",
     "output_type": "stream",
     "text": [
      "\n",
      "X.shape = (178, 13)\n",
      "\n",
      "y.shape = (178,)\n",
      "\n",
      "wine categories:\n",
      " [0 0 0 0 0 0 0 0 0 0 0 0 0 0 0 0 0 0 0 0 0 0 0 0 0 0 0 0 0 0 0 0 0 0 0 0 0\n",
      " 0 0 0 0 0 0 0 0 0 0 0 0 0 0 0 0 0 0 0 0 0 0 1 1 1 1 1 1 1 1 1 1 1 1 1 1 1\n",
      " 1 1 1 1 1 1 1 1 1 1 1 1 1 1 1 1 1 1 1 1 1 1 1 1 1 1 1 1 1 1 1 1 1 1 1 1 1\n",
      " 1 1 1 1 1 1 1 1 1 1 1 1 1 1 1 1 1 1 1 2 2 2 2 2 2 2 2 2 2 2 2 2 2 2 2 2 2\n",
      " 2 2 2 2 2 2 2 2 2 2 2 2 2 2 2 2 2 2 2 2 2 2 2 2 2 2 2 2 2 2]\n",
      "\n",
      "number of wine categories: 3\n",
      " [[ 0 59]\n",
      " [ 1 71]\n",
      " [ 2 48]]\n",
      "\n",
      "features names:\n",
      " ['alcohol', 'malic_acid', 'ash', 'alcalinity_of_ash', 'magnesium', 'total_phenols', 'flavanoids', 'nonflavanoid_phenols', 'proanthocyanins', 'color_intensity', 'hue', 'od280/od315_of_diluted_wines', 'proline']\n"
     ]
    }
   ],
   "source": [
    "dataset = datasets.load_wine()\n",
    "X = dataset.data\n",
    "y = dataset.target\n",
    "\n",
    "print(\"\\nX.shape =\", X.shape)\n",
    "print(\"\\ny.shape =\", y.shape)\n",
    "print(\"\\nwine categories:\\n\", dataset['target'])\n",
    "(category, counts) = np.unique(np.array(y), return_counts=True)\n",
    "n_categories = len(category)\n",
    "print(\"\\nnumber of wine categories: {}\\n\".format(n_categories), np.asarray((category, counts)).T)\n",
    "print(\"\\nfeatures names:\\n\", dataset['feature_names'])"
   ]
  },
  {
   "cell_type": "markdown",
   "metadata": {},
   "source": [
    "### 1 Train-test split"
   ]
  },
  {
   "cell_type": "code",
   "execution_count": 18,
   "metadata": {},
   "outputs": [
    {
     "name": "stdout",
     "output_type": "stream",
     "text": [
      "\n",
      "wine categories in test set:\n",
      " [2 2 0 1 1 0 2 2 0 1 1 1 1 1 0 1 1 2 0 0 2 1 1 0 2 0 2 0 1 1 0 0 2 0 1 2 1\n",
      " 0 0 1 1 0 0 1 0 0 2 0 2 0 0 0 1 2 2 2 1 0 0 1 1 2 1 2 0 0 2 1 1 2 0 1 2 1\n",
      " 1 1 1 1 1 1 0 0 0 1 0 1 1 1 0 0 0 2 0 1 2 1 1 1 2 1 2 0 1 1 2 0 2 0 2 0 2\n",
      " 1 0 0 2 1 0 2 2 1 0 1 1 0]\n"
     ]
    }
   ],
   "source": [
    "# train-test splitting\n",
    "X_train, X_test, y_train, y_test = train_test_split(X, y, test_size=0.3)\n",
    "\n",
    "# categories in training\n",
    "print(\"\\nwine categories in test set:\\n\", y_train)"
   ]
  },
  {
   "cell_type": "code",
   "execution_count": 19,
   "metadata": {},
   "outputs": [
    {
     "name": "stdout",
     "output_type": "stream",
     "text": [
      "number of target categories in train set is equal to that of the whole dataset: True\n"
     ]
    }
   ],
   "source": [
    "# check categories\n",
    "def check_categories(y, number_in_whole_dataset=n_categories):\n",
    "    '''checks all categoriest are present in y target set'''\n",
    "    \n",
    "    return len(np.unique(np.array(y), return_counts=False)) == n_categories\n",
    "\n",
    "print(\"number of target categories in train set is equal to that of the whole dataset: {}\".format(check_categories(y_train)))\n",
    "    "
   ]
  },
  {
   "cell_type": "markdown",
   "metadata": {},
   "source": [
    "### 2 Logistic regression model"
   ]
  },
  {
   "cell_type": "code",
   "execution_count": 22,
   "metadata": {},
   "outputs": [],
   "source": [
    "# model\n",
    "model_LR = LogisticRegression()"
   ]
  },
  {
   "cell_type": "code",
   "execution_count": 25,
   "metadata": {},
   "outputs": [
    {
     "name": "stderr",
     "output_type": "stream",
     "text": [
      "/home/macro/.local/lib/python3.8/site-packages/sklearn/linear_model/_logistic.py:814: ConvergenceWarning: lbfgs failed to converge (status=1):\n",
      "STOP: TOTAL NO. of ITERATIONS REACHED LIMIT.\n",
      "\n",
      "Increase the number of iterations (max_iter) or scale the data as shown in:\n",
      "    https://scikit-learn.org/stable/modules/preprocessing.html\n",
      "Please also refer to the documentation for alternative solver options:\n",
      "    https://scikit-learn.org/stable/modules/linear_model.html#logistic-regression\n",
      "  n_iter_i = _check_optimize_result(\n"
     ]
    },
    {
     "data": {
      "text/plain": [
       "LogisticRegression()"
      ]
     },
     "execution_count": 25,
     "metadata": {},
     "output_type": "execute_result"
    }
   ],
   "source": [
    "# fitting to training se\n",
    "model_LR.fit(X_train, y_train)"
   ]
  },
  {
   "cell_type": "code",
   "execution_count": 27,
   "metadata": {},
   "outputs": [
    {
     "name": "stdout",
     "output_type": "stream",
     "text": [
      "number of predicted categories from test set X_test is equal to that of the whole dataset: True\n"
     ]
    }
   ],
   "source": [
    "# predictions \n",
    "y_predicted_LR = model_LR.predict(X_test)\n",
    "\n",
    "# checking number of predudicted categories\n",
    "print(\"number of predicted categories from test set X_test is equal to that of the whole dataset: {}\".format(check_categories(y_predicted)))"
   ]
  },
  {
   "cell_type": "code",
   "execution_count": 29,
   "metadata": {},
   "outputs": [
    {
     "name": "stdout",
     "output_type": "stream",
     "text": [
      "              precision    recall  f1-score   support\n",
      "\n",
      "  category 0       1.00      0.87      0.93        15\n",
      "  category 1       0.88      0.95      0.91        22\n",
      "  category 2       0.94      0.94      0.94        17\n",
      "\n",
      "    accuracy                           0.93        54\n",
      "   macro avg       0.94      0.92      0.93        54\n",
      "weighted avg       0.93      0.93      0.93        54\n",
      "\n"
     ]
    }
   ],
   "source": [
    "# define names for wine categories\n",
    "target_names = ['category 0', 'category 1', 'category 2']\n",
    "\n",
    "# classification report\n",
    "print(classification_report(y_test, y_predicted, target_names=target_names))"
   ]
  },
  {
   "cell_type": "markdown",
   "metadata": {},
   "source": [
    "### 3 Gaussian Naive Bayes model"
   ]
  },
  {
   "cell_type": "code",
   "execution_count": 32,
   "metadata": {},
   "outputs": [],
   "source": [
    "### define model\n",
    "model_NB = GaussianNB()"
   ]
  },
  {
   "cell_type": "code",
   "execution_count": 33,
   "metadata": {},
   "outputs": [
    {
     "data": {
      "text/plain": [
       "GaussianNB()"
      ]
     },
     "execution_count": 33,
     "metadata": {},
     "output_type": "execute_result"
    }
   ],
   "source": [
    "# fitting to training set\n",
    "model_NB.fit(X_train, y_train)"
   ]
  },
  {
   "cell_type": "code",
   "execution_count": 34,
   "metadata": {},
   "outputs": [
    {
     "name": "stdout",
     "output_type": "stream",
     "text": [
      "number of predicted categories from test set X_test is equal to that of the whole dataset: True\n"
     ]
    }
   ],
   "source": [
    "# predictions \n",
    "y_predicted_NB = model_NB.predict(X_test)\n",
    "\n",
    "# checking number of predudicted categories\n",
    "print(\"number of predicted categories from test set X_test is equal to that of the whole dataset: {}\".format(check_categories(y_predicted_NB)))"
   ]
  },
  {
   "cell_type": "code",
   "execution_count": 35,
   "metadata": {},
   "outputs": [
    {
     "name": "stdout",
     "output_type": "stream",
     "text": [
      "              precision    recall  f1-score   support\n",
      "\n",
      "  category 0       1.00      0.93      0.97        15\n",
      "  category 1       0.95      0.91      0.93        22\n",
      "  category 2       0.89      1.00      0.94        17\n",
      "\n",
      "    accuracy                           0.94        54\n",
      "   macro avg       0.95      0.95      0.95        54\n",
      "weighted avg       0.95      0.94      0.94        54\n",
      "\n"
     ]
    }
   ],
   "source": [
    "# classification report\n",
    "print(classification_report(y_test, y_predicted_NB, target_names=target_names))"
   ]
  }
 ],
 "metadata": {
  "interpreter": {
   "hash": "31f2aee4e71d21fbe5cf8b01ff0e069b9275f58929596ceb00d14d90e3e16cd6"
  },
  "kernelspec": {
   "display_name": "Python 3.8.10 64-bit",
   "language": "python",
   "name": "python3"
  },
  "language_info": {
   "codemirror_mode": {
    "name": "ipython",
    "version": 3
   },
   "file_extension": ".py",
   "mimetype": "text/x-python",
   "name": "python",
   "nbconvert_exporter": "python",
   "pygments_lexer": "ipython3",
   "version": "3.8.10"
  },
  "orig_nbformat": 4
 },
 "nbformat": 4,
 "nbformat_minor": 2
}
