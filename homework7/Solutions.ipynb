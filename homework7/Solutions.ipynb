{
 "cells": [
  {
   "cell_type": "code",
   "execution_count": 29,
   "metadata": {},
   "outputs": [
    {
     "name": "stdout",
     "output_type": "stream",
     "text": [
      "Collecting torch==1.8.1\n",
      "\u001b[33m  WARNING: Retrying (Retry(total=4, connect=None, read=None, redirect=None, status=None)) after connection broken by 'ReadTimeoutError(\"HTTPSConnectionPool(host='files.pythonhosted.org', port=443): Read timed out. (read timeout=15)\")': /packages/56/74/6fc9dee50f7c93d6b7d9644554bdc9692f3023fa5d1de779666e6bf8ae76/torch-1.8.1-cp37-cp37m-manylinux1_x86_64.whl\u001b[0m\n",
      "  Downloading torch-1.8.1-cp37-cp37m-manylinux1_x86_64.whl (804.1 MB)\n",
      "\u001b[K     |████████████████████████████████| 804.1 MB 4.2 kB/s \n",
      "\u001b[?25hRequirement already satisfied: numpy in /home/macro/anaconda3/lib/python3.7/site-packages (from torch==1.8.1) (1.19.2)\n",
      "Requirement already satisfied: typing-extensions in /home/macro/anaconda3/lib/python3.7/site-packages (from torch==1.8.1) (3.7.4.3)\n",
      "Installing collected packages: torch\n",
      "  Attempting uninstall: torch\n",
      "    Found existing installation: torch 1.9.0\n",
      "    Uninstalling torch-1.9.0:\n",
      "      Successfully uninstalled torch-1.9.0\n",
      "Successfully installed torch-1.8.1\n",
      "Collecting pyro-ppl==1.3.0\n",
      "  Downloading pyro_ppl-1.3.0-py3-none-any.whl (495 kB)\n",
      "\u001b[K     |████████████████████████████████| 495 kB 6.8 MB/s \n",
      "\u001b[?25hRequirement already satisfied: tqdm>=4.36 in /home/macro/anaconda3/lib/python3.7/site-packages (from pyro-ppl==1.3.0) (4.59.0)\n",
      "Requirement already satisfied: torch>=1.4.0 in /home/macro/anaconda3/lib/python3.7/site-packages (from pyro-ppl==1.3.0) (1.8.1)\n",
      "Requirement already satisfied: numpy>=1.7 in /home/macro/anaconda3/lib/python3.7/site-packages (from pyro-ppl==1.3.0) (1.19.2)\n",
      "Collecting opt-einsum>=2.3.2\n",
      "  Using cached opt_einsum-3.3.0-py3-none-any.whl (65 kB)\n",
      "Collecting pyro-api>=0.1.1\n",
      "  Using cached pyro_api-0.1.2-py3-none-any.whl (11 kB)\n",
      "Requirement already satisfied: typing-extensions in /home/macro/anaconda3/lib/python3.7/site-packages (from torch>=1.4.0->pyro-ppl==1.3.0) (3.7.4.3)\n",
      "Installing collected packages: pyro-api, opt-einsum, pyro-ppl\n",
      "Successfully installed opt-einsum-3.3.0 pyro-api-0.1.2 pyro-ppl-1.3.0\n"
     ]
    }
   ],
   "source": [
    "\n",
    "\n",
    "import pyro\n",
    "import torch\n",
    "import pyro.distributions as dist\n",
    "from pyro.optim import Adam\n",
    "import pyro.optim as optim\n",
    "from pyro.infer import SVI, Trace_ELBO, TraceMeanField_ELBO, Predictive\n",
    "import pandas as pd\n",
    "import seaborn as sns\n",
    "import matplotlib.pyplot as plt\n",
    "import numpy as np\n",
    "from pyro.infer import Predictive\n",
    "import torch.distributions.constraints as constraints\n",
    "\n",
    "import warnings\n",
    "warnings.filterwarnings('ignore')\n",
    "\n",
    "import numpy as np\n",
    "\n",
    "from sklearn import datasets\n",
    "from sklearn.model_selection import train_test_split\n",
    "from sklearn.linear_model import LogisticRegression\n",
    "from sklearn.metrics import classification_report\n",
    "from sklearn.naive_bayes import GaussianNB\n",
    "\n",
    "sns.set_style(\"darkgrid\")\n",
    "figsize=(10,4)\n",
    "pyro.set_rng_seed(0)"
   ]
  },
  {
   "cell_type": "code",
   "execution_count": 30,
   "metadata": {},
   "outputs": [
    {
     "data": {
      "text/html": [
       "<div>\n",
       "<style scoped>\n",
       "    .dataframe tbody tr th:only-of-type {\n",
       "        vertical-align: middle;\n",
       "    }\n",
       "\n",
       "    .dataframe tbody tr th {\n",
       "        vertical-align: top;\n",
       "    }\n",
       "\n",
       "    .dataframe thead th {\n",
       "        text-align: right;\n",
       "    }\n",
       "</style>\n",
       "<table border=\"1\" class=\"dataframe\">\n",
       "  <thead>\n",
       "    <tr style=\"text-align: right;\">\n",
       "      <th></th>\n",
       "      <th>alcohol</th>\n",
       "      <th>malic_acid</th>\n",
       "      <th>ash</th>\n",
       "      <th>magnesium</th>\n",
       "      <th>total_phenols</th>\n",
       "    </tr>\n",
       "  </thead>\n",
       "  <tbody>\n",
       "    <tr>\n",
       "      <th>0</th>\n",
       "      <td>0.842105</td>\n",
       "      <td>0.191700</td>\n",
       "      <td>0.572193</td>\n",
       "      <td>0.619565</td>\n",
       "      <td>0.627586</td>\n",
       "    </tr>\n",
       "    <tr>\n",
       "      <th>1</th>\n",
       "      <td>0.571053</td>\n",
       "      <td>0.205534</td>\n",
       "      <td>0.417112</td>\n",
       "      <td>0.326087</td>\n",
       "      <td>0.575862</td>\n",
       "    </tr>\n",
       "    <tr>\n",
       "      <th>2</th>\n",
       "      <td>0.560526</td>\n",
       "      <td>0.320158</td>\n",
       "      <td>0.700535</td>\n",
       "      <td>0.336957</td>\n",
       "      <td>0.627586</td>\n",
       "    </tr>\n",
       "    <tr>\n",
       "      <th>3</th>\n",
       "      <td>0.878947</td>\n",
       "      <td>0.239130</td>\n",
       "      <td>0.609626</td>\n",
       "      <td>0.467391</td>\n",
       "      <td>0.989655</td>\n",
       "    </tr>\n",
       "    <tr>\n",
       "      <th>4</th>\n",
       "      <td>0.581579</td>\n",
       "      <td>0.365613</td>\n",
       "      <td>0.807487</td>\n",
       "      <td>0.521739</td>\n",
       "      <td>0.627586</td>\n",
       "    </tr>\n",
       "  </tbody>\n",
       "</table>\n",
       "</div>"
      ],
      "text/plain": [
       "    alcohol  malic_acid       ash  magnesium  total_phenols\n",
       "0  0.842105    0.191700  0.572193   0.619565       0.627586\n",
       "1  0.571053    0.205534  0.417112   0.326087       0.575862\n",
       "2  0.560526    0.320158  0.700535   0.336957       0.627586\n",
       "3  0.878947    0.239130  0.609626   0.467391       0.989655\n",
       "4  0.581579    0.365613  0.807487   0.521739       0.627586"
      ]
     },
     "execution_count": 30,
     "metadata": {},
     "output_type": "execute_result"
    }
   ],
   "source": [
    "dataset = datasets.load_wine()\n",
    "features = pd.DataFrame(data=dataset['data'], columns=dataset['feature_names'])\n",
    "predictors = dataset['feature_names'][:5]\n",
    "df = features[[\"alcohol\",\"malic_acid\",\"ash\",\"magnesium\",\"total_phenols\"]]\n",
    "# normalization\n",
    "df = (df-df.min())/(df.max()-df.min())\n",
    "df.head()"
   ]
  },
  {
   "cell_type": "code",
   "execution_count": 11,
   "metadata": {},
   "outputs": [
    {
     "data": {
      "text/plain": [
       "['alcohol', 'malic_acid', 'ash', 'alcalinity_of_ash', 'magnesium']"
      ]
     },
     "execution_count": 11,
     "metadata": {},
     "output_type": "execute_result"
    }
   ],
   "source": [
    "predictors"
   ]
  },
  {
   "cell_type": "code",
   "execution_count": 31,
   "metadata": {},
   "outputs": [],
   "source": [
    "features = torch.stack([torch.tensor(df[colname].values) for colname in df], dim=1)\n",
    "# train-test splitting\n",
    "x_train, x_test, y_train, y_test = train_test_split(features, dataset.target, test_size=0.2, random_state=0)\n",
    "x_train = torch.tensor(x_train)\n",
    "x_test = torch.tensor(x_test)\n",
    "y_train = torch.tensor(y_train)\n",
    "y_test = torch.tensor(y_test)"
   ]
  },
  {
   "cell_type": "markdown",
   "metadata": {},
   "source": [
    "### 1"
   ]
  },
  {
   "cell_type": "code",
   "execution_count": 42,
   "metadata": {},
   "outputs": [],
   "source": [
    "pyro.clear_param_store()\n",
    "\n",
    "def model(x, yobs):\n",
    "    n_observations, n_predictors = x.shape\n",
    "\n",
    "    w1 = pyro.sample(\"w1\", dist.Normal(torch.zeros(n_predictors), torch.ones(n_predictors)).independent(1))\n",
    "    b1 = pyro.sample(\"b1\", dist.Normal(0.,1.))\n",
    "\n",
    "    w2 = pyro.sample(\"w2\", dist.Normal(torch.zeros(n_predictors), torch.ones(n_predictors)).independent(1))\n",
    "    b2 = pyro.sample(\"b2\", dist.Normal(0.,1.))\n",
    "\n",
    "    # non-linearity\n",
    "    yhat0 = torch.zeros(n_observations, dtype=torch.float)\n",
    "    yhat1 = (w1*x).sum(dim=1) + b1\n",
    "    yhat2 = (w2*x).sum(dim=1) + b2\n",
    "\n",
    "    # apply softmax to normalize to a prob distro\n",
    "    softmax = torch.nn.Softmax(dim=1)\n",
    "    yhat = softmax(torch.stack([yhat0,yhat1,yhat2], dim=1))\n",
    "\n",
    "    with pyro.plate(\"data\", n_observations):\n",
    "        # sampling 0-1 labels from Bernoulli distribution\n",
    "        y = pyro.sample(\"y\", dist.Categorical(probs=yhat), obs=yobs)"
   ]
  },
  {
   "cell_type": "code",
   "execution_count": 41,
   "metadata": {},
   "outputs": [],
   "source": [
    "def guide(x, y=None):\n",
    "    n_observations, n_predictors = x.shape\n",
    "\n",
    "    w1_loc = pyro.param(\"w1_loc\", torch.rand(n_predictors))\n",
    "    w1_scale = pyro.param(\"w1_scale\", torch.rand(n_predictors), constraint=constraints.positive)\n",
    "\n",
    "    w1 = pyro.sample(\"w1\", dist.Normal(w1_loc, w1_scale).independent(1))\n",
    "\n",
    "    w2_loc = pyro.param(\"w2_loc\", torch.rand(n_predictors))\n",
    "    w2_scale = pyro.param(\"w2_scale\", torch.rand(n_predictors), constraint=constraints.positive)\n",
    "\n",
    "    w2 = pyro.sample(\"w2\", dist.Normal(w2_loc, w2_scale).independent(1))\n",
    "\n",
    "    b1_loc = pyro.param(\"b1_loc\", torch.rand(1))\n",
    "    b1_scale = pyro.param(\"b1_scale\", torch.rand(1), constraint=constraints.positive)\n",
    "\n",
    "    b1 = pyro.sample(\"b1\", dist.Normal(b1_loc, b1_scale))\n",
    "\n",
    "    b2_loc = pyro.param(\"b2_loc\", torch.rand(1))\n",
    "    b2_scale = pyro.param(\"b2_scale\", torch.rand(1), constraint=constraints.positive)\n",
    "\n",
    "    b2 = pyro.sample(\"b2\", dist.Normal(b2_loc, b2_scale))"
   ]
  },
  {
   "cell_type": "markdown",
   "metadata": {},
   "source": [
    "### 2"
   ]
  },
  {
   "cell_type": "code",
   "execution_count": 43,
   "metadata": {},
   "outputs": [
    {
     "name": "stdout",
     "output_type": "stream",
     "text": [
      "Step 0 : loss = 1.3411409032840056\n",
      "Step 1000 : loss = 0.9809547056882731\n",
      "Step 2000 : loss = 0.8370438943325877\n",
      "Step 3000 : loss = 0.8401696386287846\n",
      "Step 4000 : loss = 0.8406880215290733\n",
      "Step 5000 : loss = 0.8419072701285025\n",
      "Step 6000 : loss = 0.8477631458188198\n",
      "Step 7000 : loss = 0.8158678019635676\n",
      "Step 8000 : loss = 0.8162644202058382\n",
      "Step 9000 : loss = 0.8582297791602896\n"
     ]
    },
    {
     "data": {
      "text/plain": [
       "[<matplotlib.lines.Line2D at 0x7f1ff541b3a0>]"
      ]
     },
     "execution_count": 43,
     "metadata": {},
     "output_type": "execute_result"
    },
    {
     "data": {
      "image/png": "[encoded data removed]",
      "text/plain": [
       "<Figure size 432x288 with 1 Axes>"
      ]
     },
     "metadata": {},
     "output_type": "display_data"
    }
   ],
   "source": [
    "log_reg_svi = SVI(model=model, guide=guide, optim=optim.Adam({'lr' : 0.02}), loss=Trace_ELBO()) \n",
    "\n",
    "losses = []\n",
    "for step in range(10000):\n",
    "    loss = log_reg_svi.step(x_train, y_train)/len(x_train)\n",
    "    losses.append(loss)\n",
    "    if step % 1000 == 0:\n",
    "        print(f\"Step {step} : loss = {loss}\")\n",
    "\n",
    "plt.title(\"ELBO loss\")\n",
    "plt.plot(losses)"
   ]
  },
  {
   "cell_type": "code",
   "execution_count": 44,
   "metadata": {},
   "outputs": [],
   "source": [
    "w1 = pyro.get_param_store()[\"w1_loc\"]\n",
    "b1 = pyro.get_param_store()[\"b1_loc\"]\n",
    "w2 = pyro.get_param_store()[\"w2_loc\"]\n",
    "b2 = pyro.get_param_store()[\"b2_loc\"]\n",
    "\n",
    "def predict_class(x):\n",
    "\n",
    "    y0 = torch.zeros(x.shape[0], dtype=torch.float)\n",
    "    y1 = (w1*x).sum(dim=1) + b1\n",
    "    y2 = (w2*x).sum(dim=1) + b2\n",
    "\n",
    "    softmax = torch.nn.Softmax(dim=1)\n",
    "    out = softmax(torch.stack([y0,y1,y2], dim=1))\n",
    "    out = torch.argmax(out, dim=1)\n",
    "\n",
    "    return out"
   ]
  },
  {
   "cell_type": "code",
   "execution_count": 45,
   "metadata": {},
   "outputs": [
    {
     "name": "stdout",
     "output_type": "stream",
     "text": [
      "accuracy:  0.8888888888888888\n"
     ]
    }
   ],
   "source": [
    "correct_predictions = (predict_class(x_test) == y_test).sum().item()\n",
    "\n",
    "print(\"accuracy: \", correct_predictions/len(x_test))"
   ]
  },
  {
   "cell_type": "code",
   "execution_count": 46,
   "metadata": {},
   "outputs": [
    {
     "name": "stdout",
     "output_type": "stream",
     "text": [
      "test acc for wine 0:  0.8571428571428571\n",
      "test acc for wine 1:  0.9375\n",
      "test acc for wine 2:  0.8333333333333334\n"
     ]
    }
   ],
   "source": [
    "for i in range(3):\n",
    "    correct_predictions_i = ((predict_class(x_test) == y_test) & (predict_class(x_test) == i)).sum().item()\n",
    "    accur_i = correct_predictions_i/(y_test == i).sum().item()\n",
    "    print(\"test acc for wine {}: \".format(i), accur_i)"
   ]
  }
 ],
 "metadata": {
  "interpreter": {
   "hash": "916dbcbb3f70747c44a77c7bcd40155683ae19c65e1c03b4aa3499c5328201f1"
  },
  "kernelspec": {
   "display_name": "Python 3.8.10 64-bit",
   "language": "python",
   "name": "python3"
  },
  "language_info": {
   "codemirror_mode": {
    "name": "ipython",
    "version": 3
   },
   "file_extension": ".py",
   "mimetype": "text/x-python",
   "name": "python",
   "nbconvert_exporter": "python",
   "pygments_lexer": "ipython3",
   "version": "3.8.10"
  },
  "orig_nbformat": 4
 },
 "nbformat": 4,
 "nbformat_minor": 2
}
