{
 "cells": [
  {
   "cell_type": "code",
   "execution_count": 4,
   "metadata": {},
   "outputs": [],
   "source": [
    "import pyro\n",
    "import pyro.distributions as distro \n",
    "import torch"
   ]
  },
  {
   "cell_type": "markdown",
   "metadata": {},
   "source": [
    "## Exercise 2"
   ]
  },
  {
   "cell_type": "markdown",
   "metadata": {},
   "source": [
    "### 2.2"
   ]
  },
  {
   "cell_type": "code",
   "execution_count": 40,
   "metadata": {},
   "outputs": [],
   "source": [
    "# define parameters\n",
    "T = 5; W = 50; D = 10; N = 100"
   ]
  },
  {
   "cell_type": "code",
   "execution_count": 41,
   "metadata": {},
   "outputs": [],
   "source": [
    "# define model\n",
    "def model(alpha, beta):\n",
    "\n",
    "    with pyro.plate('topics', T):\n",
    "        phi = pyro.sample('phi', distro.Dirichlet(beta*torch.ones(W)))\n",
    "    \n",
    "    with pyro.plate('docs', D):\n",
    "\n",
    "        theta = pyro.sample('theta', distro.Dirichlet(alpha*torch.ones(T)))\n",
    "\n",
    "        with pyro.plate('words', W):\n",
    "            t = pyro.sample('t', distro.Categorical(probs = theta))\n",
    "            w = pyro.sample('w', distro.Categorical(probs = phi[t]))\n",
    "\n",
    "    return theta, phi, t, w"
   ]
  },
  {
   "cell_type": "markdown",
   "metadata": {},
   "source": [
    "### 2.3"
   ]
  },
  {
   "cell_type": "code",
   "execution_count": 42,
   "metadata": {},
   "outputs": [],
   "source": [
    "# define hyperparamters\n",
    "alpha = torch.tensor([0.5, 0.3, 0.1, 0.4, 0.2])\n",
    "beta = distro.Gamma(1./T, 1.).sample((W,))"
   ]
  },
  {
   "cell_type": "code",
   "execution_count": 43,
   "metadata": {},
   "outputs": [
    {
     "name": "stdout",
     "output_type": "stream",
     "text": [
      "shape of theta:  torch.Size([10, 5]) \n",
      "shape of phi:  torch.Size([5, 50]) \n",
      "shape of t:  torch.Size([50, 10]) \n",
      "shape of w:  torch.Size([50, 10])\n"
     ]
    }
   ],
   "source": [
    "theta, phi, t, w = model(alpha, beta)\n",
    "print('shape of theta: ',theta.size(), '\\nshape of phi: ', phi.size(), '\\nshape of t: ', t.size(), '\\nshape of w: ', w.size())"
   ]
  }
 ],
 "metadata": {
  "interpreter": {
   "hash": "916dbcbb3f70747c44a77c7bcd40155683ae19c65e1c03b4aa3499c5328201f1"
  },
  "kernelspec": {
   "display_name": "Python 3.8.10 64-bit",
   "language": "python",
   "name": "python3"
  },
  "language_info": {
   "codemirror_mode": {
    "name": "ipython",
    "version": 3
   },
   "file_extension": ".py",
   "mimetype": "text/x-python",
   "name": "python",
   "nbconvert_exporter": "python",
   "pygments_lexer": "ipython3",
   "version": "3.8.10"
  },
  "orig_nbformat": 4
 },
 "nbformat": 4,
 "nbformat_minor": 2
}
